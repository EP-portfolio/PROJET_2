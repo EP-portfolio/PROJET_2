{
 "cells": [
  {
   "cell_type": "markdown",
   "metadata": {},
   "source": [
    "# DANS CE PROJET NOUS ALLONS ETUDIER LES DONNEES DE LA BANQUE MONDIALE. \n",
    "# EN PARTICULIER LES DONNEES STATISTIQUES SUR L'EDUCATION. \n"
   ]
  },
  {
   "cell_type": "code",
   "execution_count": null,
   "metadata": {},
   "outputs": [],
   "source": [
    "# COMMENCONS PAR IMPORTER LES LIBRAIRIES NECESSAIRES \n",
    "import numpy as np # POUR LE CALCUL MATRICIEL NOTAMMENT\n",
    "import pandas as pd # POUR LES DATAFRAMES\n",
    "import matplotlib as plt # POUR LES REPRESENTATIONS GRAPHIQUES\n",
    "import seaborn as sns # pour une plus grande facilité à réaliser des graphiques \"attrayants\""
   ]
  },
  {
   "cell_type": "markdown",
   "metadata": {},
   "source": [
    "### DANS LE DOSSIER A TELECHARGER SE TROUVENT 5 FICHIERS .CSV. NOUS ALLONS LES ETUDIER UN PAR UN"
   ]
  },
  {
   "cell_type": "markdown",
   "metadata": {},
   "source": [
    "# ***<u>ETUDE DU PREMIER FICHIER : EdStatsCountry</u>***"
   ]
  },
  {
   "cell_type": "code",
   "execution_count": null,
   "metadata": {},
   "outputs": [],
   "source": [
    "# definition du path\n",
    "path=r'C:\\Users\\lenovo\\Desktop\\OpenClassrooms\\PROJET OC\\PROJET 2\\RESSOURCES\\Projet+Python_Dataset_Edstats_csv\\EdStatsCountry.csv'"
   ]
  },
  {
   "cell_type": "code",
   "execution_count": null,
   "metadata": {},
   "outputs": [],
   "source": [
    "# CREATION DU DATAFRAME CORRESPONDANT\n",
    "Fichier_Country = pd.read_csv(path)"
   ]
  },
  {
   "cell_type": "code",
   "execution_count": null,
   "metadata": {},
   "outputs": [],
   "source": [
    "# ETUDE DES 5 PREMIERES LIGNES DU DATAFRAME\n",
    "Fichier_Country.head()"
   ]
  },
  {
   "cell_type": "markdown",
   "metadata": {},
   "source": [
    "DE PRIME ABORD ON PEUT CONSTATER QUE CE FICHIER EST TRIE PAR ORDRE ALPHABETIQUE DE COUNTRY CODE\n",
    "\n",
    "IL COMPORTE 32 COLONNES COMME LE COUNTRY CODE QUI SERT D'IDENTIFIANT\n",
    "\n",
    "LES DIFFERENTS NOMS (SHORT, TABLE, LONG)\n",
    "\n",
    "LE PIB (HIGH, LOW ...)\n",
    "\n",
    "DES DATES DE RECENSEMENT DE LA POPULATION ET DES PARCELLES AGRICOLES ET AUTRES\n"
   ]
  },
  {
   "cell_type": "code",
   "execution_count": null,
   "metadata": {},
   "outputs": [],
   "source": [
    "# RENTRONS PLUS EN DETAIL DANS L'EXPLORATION DE CE DATAFRAME\n",
    "Fichier_Country.info()"
   ]
  },
  {
   "cell_type": "markdown",
   "metadata": {},
   "source": [
    "CE FICHIER CONTIENT  241 LIGNES NUMEROTEES DE 0 A 240 ET 32 COLONNES NUMEROTEES DE 0 A 31. IL COMPORTE 4 COLONNES DE TYPES FLOAT (NOMBRES DECIMAUX) ET 28 DE TYPE OBJECT (CHAINE DE CARACTERES). \n",
    "\n",
    "ON CONSTATE QUE LA COLONNE N° 31 (Unnamed: 31) EST ENTIEREMENT VIDE, EN EFFET ELLE CONTIENT 0 NON-NULL. D'AUTRES COMME LA N°16 (Alternative conversion factor) OU ENCORE LA N°11 (National accounts reference year).... NE SONT QUE PEU REMPLIES. D'AUTRES COMME LA N°5 (Currency Unit) SONT QUASIMENT COMPLETES. ENFIN DES COLONNES TELLES QUE LA N°1 (Short Name) sont complétes. "
   ]
  },
  {
   "cell_type": "markdown",
   "metadata": {},
   "source": [
    "# ***<u>PASSONS AU PROCHAIN FICHIER NOMME EdStatsCountry-Series</u>***\n"
   ]
  },
  {
   "cell_type": "code",
   "execution_count": null,
   "metadata": {},
   "outputs": [],
   "source": [
    "# definition du path\n",
    "path=r'C:\\Users\\lenovo\\Desktop\\OpenClassrooms\\PROJET OC\\PROJET 2\\RESSOURCES\\Projet+Python_Dataset_Edstats_csv\\EdStatsCountry-Series.csv'\n"
   ]
  },
  {
   "cell_type": "code",
   "execution_count": null,
   "metadata": {},
   "outputs": [],
   "source": [
    "# CREATION DU DATAFRAME CORRESPONDANT\n",
    "Fichier_Country_Series = pd.read_csv(path)"
   ]
  },
  {
   "cell_type": "code",
   "execution_count": null,
   "metadata": {},
   "outputs": [],
   "source": [
    "# ETUDE DES 5 PREMIERES LIGNES DU DATAFRAME\n",
    "Fichier_Country_Series.head(5)"
   ]
  },
  {
   "cell_type": "markdown",
   "metadata": {},
   "source": [
    "DE PRIME ABORD ON PEUT CONSTATER QUE CE FICHIER EST TRIE PAR ORDRE ALPHABETIQUE DE COUNTRY CODE\n",
    "\n",
    "IL COMPORTE 4 COLONNES COMME LE COUNTRY CODE QUI SERT D'IDENTIFIANT\n",
    "\n",
    "UNE COLONNE NOMMEE SeriesCode EN LIEN CERTAINEMENT AVEFC LE FICHIER EdStatsSeries\n",
    "\n",
    "UNE COLONNE DESCRIPTION INDIQUANT LA SOURCE DES INFOS. ON CONSTATE QUE LES SOURCES VARIENT. CERTAINES OFFICIELLES COMME L'ONU. D'AUTRES OBTENUES PAR REGRESSION\n",
    "\n",
    "UNE COLONNE Unnamed: 3 CERTAINEMENT ENTIEREMENT VIDE COMME SUR LE FICHIER PRECEDENT"
   ]
  },
  {
   "cell_type": "code",
   "execution_count": null,
   "metadata": {},
   "outputs": [],
   "source": [
    "# RENTRONS PLUS EN DETAIL DANS L'EXPLORATION DE CE DATAFRAME\n",
    "Fichier_Country_Series.info()"
   ]
  },
  {
   "cell_type": "markdown",
   "metadata": {},
   "source": [
    "CE FICHIER CONTIENT  ***613 LIGNES*** NUMEROTEES DE 0 A 612 ET ***4 COLONNES*** NUMEROTEES DE 0 A 3. IL COMPORTE *****1 COLONNE DE TYPES FLOAT***** (NOMBRES DECIMAUX) ET ***3 DE TYPE OBJECT*** (CHAINE DE CARACTERES)."
   ]
  },
  {
   "cell_type": "markdown",
   "metadata": {},
   "source": [
    "ON CONSTATE QUE LA COLONNE N° 3 (Unnamed: 3) EST ENTIEREMENT VIDE, EN EFFET ELLE CONTIENT 0 NON-NULL. QUANT AU RESTE DES COLONNES ELLES SONT COMPLETES. "
   ]
  },
  {
   "cell_type": "markdown",
   "metadata": {},
   "source": [
    "# ***<u>PASSONS AU PROCHAIN FICHIER NOMME EdStatsData</u>***\n",
    "\n"
   ]
  },
  {
   "cell_type": "code",
   "execution_count": null,
   "metadata": {},
   "outputs": [],
   "source": [
    "# definition du path\n",
    "path=r'C:\\Users\\lenovo\\Desktop\\OpenClassrooms\\PROJET OC\\PROJET 2\\RESSOURCES\\Projet+Python_Dataset_Edstats_csv\\EdStatsData.csv'"
   ]
  },
  {
   "cell_type": "code",
   "execution_count": null,
   "metadata": {},
   "outputs": [],
   "source": [
    "# CREATION DU DATAFRAME CORRESPONDANT\n",
    "Fichier_Data = pd.read_csv(path)"
   ]
  },
  {
   "cell_type": "code",
   "execution_count": null,
   "metadata": {},
   "outputs": [],
   "source": [
    "# ETUDE DES 5 PREMIERES LIGNES DU DATAFRAME\n",
    "Fichier_Data.head(2)"
   ]
  },
  {
   "cell_type": "markdown",
   "metadata": {},
   "source": [
    "DE PRIME ABORD ON PEUT CONSTATER QUE CE FICHIER EST TRIE PAR ORDRE ALPHABETIQUE DE COUNTRY NAME, CEPENDANT ICI IL SEMBLE PLUTOT S'AGIR DE GROUPE GEOGRAPHIQUE COMME Arab World (Monde Arabe) OU ENCORE East Asia & Pacific (Espace Asie Pacifique). IL FAUDRA EXPLORER PLUS EN PROFONDEUR CES RENSEIGNEMENTS\n",
    "\n",
    "IL COMPORTE 70 COLONNES COMME LE COUNTRY CODE QUI SERT D'IDENTIFIANT\n",
    "\n",
    "DEUX COLONNES NOMMEES Country Name ET Country Code QUI REPRESENTENT EN FAIT LES CODE DE REGIONS GEOGRAPHIOQUES AINSI QUE LEUR VERSIONS ABREGEES (EX : Arab World -> ARB)\n",
    "\n",
    "DEUX COLONNES NOMMEES Indicator Name ET Indicator Code QUI SONT L'INDICATEUR ETUDIE AINSI QUE SON ABREVIATION (EX : Adujstment... -> UIS.NERA.2)\n",
    "\n",
    "LA DERNIERE NOMMEE Unnamed: 69 CERTAINEMENT VIDE COMME SUR LES FICHIERS PRECEDENT\n",
    "\n",
    "QUANT AUX 65 COLONNES RESTANTES ELLES REPRESENTENT TOUTES UNE ANNE DIFFERENTES CONTENANT LES VALEURS CONNUES POUR L'INDICATEUR PRECISE DANS LA COLONNE Indicator Name A LA DATE INDIQUEE PAR LA COLONNE. LES ANNEES AVANCENT D'UN PAS DE 1 DE 1970 A 2017 INCLUS PUIS AVANCENT D'UN PAS DE 5 DE 2020 A 2100 INCLUS.\n",
    "\n",
    "\n"
   ]
  },
  {
   "cell_type": "code",
   "execution_count": null,
   "metadata": {},
   "outputs": [],
   "source": [
    "# RENTRONS PLUS EN DETAIL DANS L'EXPLORATION DE CE DATAFRAME\n",
    "Fichier_Data.info()"
   ]
  },
  {
   "cell_type": "markdown",
   "metadata": {},
   "source": [
    "\n",
    "CE FICHIER CONTIENT  886930 LIGNES NUMEROTEES DE 0 A 886929 ET 70 COLONNES NUMEROTEES DE 0 A 69. IL COMPORTE 66 COLONNE DE TYPES FLOAT (NOMBRES DECIMAUX) ET 4 DE TYPE OBJECT (CHAINE DE CARACTERES). \n"
   ]
  },
  {
   "cell_type": "markdown",
   "metadata": {},
   "source": [
    "\n",
    "ON CONSTATE QUE LA COLONNE N° 69 (Unnamed: 69) EST ENTIEREMENT VIDE, EN EFFET ELLE CONTIENT 0 NON-NULL. LA COLONNE N°51 REPRESENTANT L'ANNEE 2017 EST TRES PEU RENSEIGNEE (SEULEMENT 143 NON-NULL).LES ANNEES TERMINANT PAR 0 OU 5 ENTRE 1970 ET 1990 INCLUS SONT MIEUX RENSEIGNEES QUE LES AUTRES SUR LA MEME PERIODE. CE PHENOMENE CE REPETE DE 1990 A 2000 BIEN QUE SUR CETTE PERIODE LES \"FAIBLES\" RENSEIGNEMENTS ONT OTUT DE MEME DOUBLES EN VALEUR ABSOLUE. A PARTIR DES ANNEES 1999-2000 JUSQU'EN 2015 LES RENSEIGNEMENTS VONT DE 120K A 200K VOIR 240K. 2016 ET 2017 ETANT TRES MAL RENSEIGNEES LES COLONNES N°52 JUSQU'A 68 c.à.d. DE L'ANNEE 2020 JUSQU'A L'ANNEE 2100 COMPORTE TOUTES 51436 VALEURS NON NULLES (CERTAINEMENT DES PROJECTIONS DE VALEURS)\n"
   ]
  },
  {
   "cell_type": "markdown",
   "metadata": {},
   "source": [
    "# ***<u>PASSONS AU PROCHAIN FICHIER NOMME EdStatsFootNote</u>***"
   ]
  },
  {
   "cell_type": "code",
   "execution_count": null,
   "metadata": {},
   "outputs": [],
   "source": [
    "#definition du path\n",
    "path=r'C:\\Users\\lenovo\\Desktop\\OpenClassrooms\\PROJET OC\\PROJET 2\\RESSOURCES\\Projet+Python_Dataset_Edstats_csv\\EdStatsFootNote.csv'\n",
    "\n"
   ]
  },
  {
   "cell_type": "code",
   "execution_count": null,
   "metadata": {},
   "outputs": [],
   "source": [
    "# CREATION DU DATAFRAME CORRESPONDANT\n",
    "Fichier_FootNote = pd.read_csv(path)"
   ]
  },
  {
   "cell_type": "code",
   "execution_count": null,
   "metadata": {},
   "outputs": [],
   "source": [
    "# ETUDE DES 5 PREMIERES LIGNES DU DATAFRAME\n",
    "Fichier_FootNote.head(5)"
   ]
  },
  {
   "cell_type": "markdown",
   "metadata": {},
   "source": [
    "\n",
    "DE PRIME ABORD ON PEUT CONSTATER QUE CE FICHIER EST TRIE PAR ORDRE ALPHABETIQUE DE COUNTRY CODE, ABW POUR ARUBA COMME ON A PU LE VOIR DANS LE 1ER FICHIER. IL FAUDRA EXPLORER PLUS EN PROFONDEUR CES RENSEIGNEMENTS\n",
    "\n",
    "IL COMPORTE 5 COLONNES COMME LE COUNTRY CODE QUI SERT D'IDENTIFIANT\n",
    "\n",
    "UNE COLONNE CountryCode REFERENCANT LA ZONE GEOGRAPHIQUE\n",
    "\n",
    "UNE COLONNE NOMMEE SeriesCode REFERENCANT LE CODE DE LA SERIE DE DONNEES\n",
    "\n",
    "UNE COLONNE Year RENSEIGNANT L'ANNEE A LAQUELLE SE RAPPORTE LA SERIE\n",
    "\n",
    "UNE COLONNE DESCRIPTION EXPLIQUANT SI LA DONNEE EST UNE ESTIMATION OU UNE DONNEE COLLECTEE\n",
    "\n",
    "LA DERNIERE NOMMEE Unnamed: 4 CERTAINEMENT VIDE COMME SUR LES FICHIERS PRECEDENT\n"
   ]
  },
  {
   "cell_type": "code",
   "execution_count": null,
   "metadata": {},
   "outputs": [],
   "source": [
    "# RENTRONS PLUS EN DETAIL DANS L'EXPLORATION DE CE DATAFRAME\n",
    "Fichier_FootNote.info()\n"
   ]
  },
  {
   "cell_type": "markdown",
   "metadata": {},
   "source": [
    "\n",
    "CE FICHIER CONTIENT  643638 LIGNES NUMEROTEES DE 0 A 643637 ET 5 COLONNES NUMEROTEES DE 0 A 4. IL COMPORTE 1 COLONNE DE TYPES FLOAT (NOMBRES DECIMAUX) ET 4 DE TYPE OBJECT (CHAINE DE CARACTERES). \n",
    "\n",
    "ON CONSTATE QUE LA COLONNE N° 4 (Unnamed: 4) EST ENTIEREMENT VIDE, EN EFFET ELLE CONTIENT 0 NON-NULL. QUANT AUX AUTRES COLONNE ELLES SONT TOUTES COMPLETES\n"
   ]
  },
  {
   "cell_type": "markdown",
   "metadata": {},
   "source": [
    "# ***<u>PASSONS AU PROCHAIN FICHIER NOMME EdStatsSeries</u>***"
   ]
  },
  {
   "cell_type": "code",
   "execution_count": null,
   "metadata": {},
   "outputs": [],
   "source": [
    "#definition du path\n",
    "path=r'C:\\Users\\lenovo\\Desktop\\OpenClassrooms\\PROJET OC\\PROJET 2\\RESSOURCES\\Projet+Python_Dataset_Edstats_csv\\EdStatsSeries.csv'\n",
    "\n"
   ]
  },
  {
   "cell_type": "code",
   "execution_count": null,
   "metadata": {},
   "outputs": [],
   "source": [
    "# CREATION DU DATAFRAME CORRESPONDANT\n",
    "Fichier_Series = pd.read_csv(path)"
   ]
  },
  {
   "cell_type": "code",
   "execution_count": null,
   "metadata": {},
   "outputs": [],
   "source": [
    "# ETUDE DES 5 PREMIERES LIGNES DU DATAFRAME\n",
    "Fichier_Series.head(2)"
   ]
  },
  {
   "cell_type": "markdown",
   "metadata": {},
   "source": [
    "\n",
    "DE PRIME ABORD ON PEUT CONSTATER QUE CE FICHIER EST TRIE PAR ORDRE ALPHABETIQUE DE Series Code, IL SEMBLERAIT QUE DANS LE NOM SE TROUVE LA TRNACHE D'AGE ETUDIE PAR EXEMPLE 1519 POUR LES 15-19 ANS. IL FAUDRA EXPLORER PLUS EN PROFONDEUR CES RENSEIGNEMENTS\n",
    "\n",
    "L'ENSEMBLE DES COLONNES A POUR BUT DE RENSEIGNER LA MANIERE DONT ONT ETE COLLECTEES LES DONNEES, LES SOURCES UTILISEES, LES UNITES DE MESURES..."
   ]
  },
  {
   "cell_type": "code",
   "execution_count": null,
   "metadata": {},
   "outputs": [],
   "source": [
    "# RENTRONS PLUS EN DETAIL DANS L'EXPLORATION DE CE DATAFRAME\n",
    "Fichier_Series.info()"
   ]
  },
  {
   "cell_type": "markdown",
   "metadata": {},
   "source": [
    "\n",
    "CE FICHIER CONTIENT  3665 LIGNES NUMEROTEES DE 0 A 3664 ET 21 COLONNES NUMEROTEES DE 0 A 20. IL COMPORTE 6 COLONNE DE TYPES FLOAT (NOMBRES DECIMAUX) ET 15 DE TYPE OBJECT (CHAINE DE CARACTERES). \n",
    "A NOTER QUE TOUTES LES COLONNES DE TYPES FLOAT SONT ENTIEREMENT VIDES"
   ]
  },
  {
   "cell_type": "markdown",
   "metadata": {},
   "source": [
    "\n",
    "LES COLONNES N° 0, 1, 2, 4, 13 SONT COMPLETES. LA COLONNE N°3 Short Definition EST QUANT A ELLE COMPLETES A ENVIRON 60%. QUANT AUX AUTRES ELLES NE DEPASSENT PAS LES 552 RENSEIGNEMENTS (ENVIRON 15%). ENFIN LES N° 5, 11, 17, 18, 19, 20 SONT ENTIEREMENT VIDES"
   ]
  },
  {
   "cell_type": "markdown",
   "metadata": {},
   "source": [
    "# ***<u>FIN ETUDE PRELIMINAIRE</u>***"
   ]
  },
  {
   "cell_type": "markdown",
   "metadata": {},
   "source": []
  }
 ],
 "metadata": {
  "kernelspec": {
   "display_name": "Python 3",
   "language": "python",
   "name": "python3"
  },
  "language_info": {
   "codemirror_mode": {
    "name": "ipython",
    "version": 3
   },
   "file_extension": ".py",
   "mimetype": "text/x-python",
   "name": "python",
   "nbconvert_exporter": "python",
   "pygments_lexer": "ipython3",
   "version": "3.11.7"
  }
 },
 "nbformat": 4,
 "nbformat_minor": 2
}
