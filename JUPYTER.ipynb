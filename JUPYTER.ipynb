{
 "cells": [
  {
   "cell_type": "markdown",
   "metadata": {},
   "source": [
    "DANS CE PROJET NOUS ALLONS ETUDIER LES DONNEES DE LA BANQUE MONDIALE. \n",
    "\n",
    "EN PARTICULIER LES DONNEES STATISTIQUES SUR L'EDUCATION. \n"
   ]
  },
  {
   "cell_type": "code",
   "execution_count": 4091,
   "metadata": {},
   "outputs": [],
   "source": [
    "# COMMENCONS PAR IMPORTER LES LIBRAIRIES NECESSAIRES \n",
    "import numpy as np # POUR LE CALCUL MATRICIEL NOTAMMENT\n",
    "import pandas as pd # POUR LES DATAFRAMES\n",
    "import matplotlib.pyplot as plt # POUR LES REPRESENTATIONS GRAPHIQUES\n",
    "\n",
    "import seaborn as sns # POUR CREER DES HEATMAP ET AUTRE"
   ]
  },
  {
   "cell_type": "markdown",
   "metadata": {},
   "source": [
    "DANS LE DOSSIER A TELECHARGER SE TROUVENT 5 FICHIERS .CSV. NOUS ALLONS LES ETUDIER UN PAR UN"
   ]
  },
  {
   "cell_type": "markdown",
   "metadata": {},
   "source": [
    "# ***<u> P1 - 1) ETUDE DU PREMIER FICHIER : EdStatsCountry</u>***"
   ]
  },
  {
   "cell_type": "code",
   "execution_count": 4092,
   "metadata": {},
   "outputs": [],
   "source": [
    "# DEFINITION DU PATH\n",
    "path=r'C:\\Users\\lenovo\\Desktop\\OpenClassrooms\\PROJET_OC\\PROJET_2\\RESSOURCES\\Projet+Python_Dataset_Edstats_csv\\EdStatsCountry.csv'"
   ]
  },
  {
   "cell_type": "code",
   "execution_count": 4093,
   "metadata": {},
   "outputs": [],
   "source": [
    "# CREATION DU DATAFRAME CORRESPONDANT\n",
    "Fichier_Country = pd.read_csv(path)"
   ]
  },
  {
   "cell_type": "code",
   "execution_count": 4094,
   "metadata": {},
   "outputs": [
    {
     "data": {
      "text/html": [
       "<div>\n",
       "<style scoped>\n",
       "    .dataframe tbody tr th:only-of-type {\n",
       "        vertical-align: middle;\n",
       "    }\n",
       "\n",
       "    .dataframe tbody tr th {\n",
       "        vertical-align: top;\n",
       "    }\n",
       "\n",
       "    .dataframe thead th {\n",
       "        text-align: right;\n",
       "    }\n",
       "</style>\n",
       "<table border=\"1\" class=\"dataframe\">\n",
       "  <thead>\n",
       "    <tr style=\"text-align: right;\">\n",
       "      <th></th>\n",
       "      <th>Country Code</th>\n",
       "      <th>Short Name</th>\n",
       "      <th>Table Name</th>\n",
       "      <th>Long Name</th>\n",
       "      <th>2-alpha code</th>\n",
       "      <th>Currency Unit</th>\n",
       "      <th>Special Notes</th>\n",
       "      <th>Region</th>\n",
       "      <th>Income Group</th>\n",
       "      <th>WB-2 code</th>\n",
       "      <th>...</th>\n",
       "      <th>IMF data dissemination standard</th>\n",
       "      <th>Latest population census</th>\n",
       "      <th>Latest household survey</th>\n",
       "      <th>Source of most recent Income and expenditure data</th>\n",
       "      <th>Vital registration complete</th>\n",
       "      <th>Latest agricultural census</th>\n",
       "      <th>Latest industrial data</th>\n",
       "      <th>Latest trade data</th>\n",
       "      <th>Latest water withdrawal data</th>\n",
       "      <th>Unnamed: 31</th>\n",
       "    </tr>\n",
       "  </thead>\n",
       "  <tbody>\n",
       "    <tr>\n",
       "      <th>0</th>\n",
       "      <td>ABW</td>\n",
       "      <td>Aruba</td>\n",
       "      <td>Aruba</td>\n",
       "      <td>Aruba</td>\n",
       "      <td>AW</td>\n",
       "      <td>Aruban florin</td>\n",
       "      <td>SNA data for 2000-2011 are updated from offici...</td>\n",
       "      <td>Latin America &amp; Caribbean</td>\n",
       "      <td>High income: nonOECD</td>\n",
       "      <td>AW</td>\n",
       "      <td>...</td>\n",
       "      <td>NaN</td>\n",
       "      <td>2010</td>\n",
       "      <td>NaN</td>\n",
       "      <td>NaN</td>\n",
       "      <td>Yes</td>\n",
       "      <td>NaN</td>\n",
       "      <td>NaN</td>\n",
       "      <td>2012.0</td>\n",
       "      <td>NaN</td>\n",
       "      <td>NaN</td>\n",
       "    </tr>\n",
       "    <tr>\n",
       "      <th>1</th>\n",
       "      <td>AFG</td>\n",
       "      <td>Afghanistan</td>\n",
       "      <td>Afghanistan</td>\n",
       "      <td>Islamic State of Afghanistan</td>\n",
       "      <td>AF</td>\n",
       "      <td>Afghan afghani</td>\n",
       "      <td>Fiscal year end: March 20; reporting period fo...</td>\n",
       "      <td>South Asia</td>\n",
       "      <td>Low income</td>\n",
       "      <td>AF</td>\n",
       "      <td>...</td>\n",
       "      <td>General Data Dissemination System (GDDS)</td>\n",
       "      <td>1979</td>\n",
       "      <td>Multiple Indicator Cluster Survey (MICS), 2010/11</td>\n",
       "      <td>Integrated household survey (IHS), 2008</td>\n",
       "      <td>NaN</td>\n",
       "      <td>2013/14</td>\n",
       "      <td>NaN</td>\n",
       "      <td>2012.0</td>\n",
       "      <td>2000</td>\n",
       "      <td>NaN</td>\n",
       "    </tr>\n",
       "  </tbody>\n",
       "</table>\n",
       "<p>2 rows × 32 columns</p>\n",
       "</div>"
      ],
      "text/plain": [
       "  Country Code   Short Name   Table Name                     Long Name  \\\n",
       "0          ABW        Aruba        Aruba                         Aruba   \n",
       "1          AFG  Afghanistan  Afghanistan  Islamic State of Afghanistan   \n",
       "\n",
       "  2-alpha code   Currency Unit  \\\n",
       "0           AW   Aruban florin   \n",
       "1           AF  Afghan afghani   \n",
       "\n",
       "                                       Special Notes  \\\n",
       "0  SNA data for 2000-2011 are updated from offici...   \n",
       "1  Fiscal year end: March 20; reporting period fo...   \n",
       "\n",
       "                      Region          Income Group WB-2 code  ...  \\\n",
       "0  Latin America & Caribbean  High income: nonOECD        AW  ...   \n",
       "1                 South Asia            Low income        AF  ...   \n",
       "\n",
       "            IMF data dissemination standard  Latest population census  \\\n",
       "0                                       NaN                      2010   \n",
       "1  General Data Dissemination System (GDDS)                      1979   \n",
       "\n",
       "                             Latest household survey  \\\n",
       "0                                                NaN   \n",
       "1  Multiple Indicator Cluster Survey (MICS), 2010/11   \n",
       "\n",
       "  Source of most recent Income and expenditure data  \\\n",
       "0                                               NaN   \n",
       "1           Integrated household survey (IHS), 2008   \n",
       "\n",
       "  Vital registration complete Latest agricultural census  \\\n",
       "0                         Yes                        NaN   \n",
       "1                         NaN                    2013/14   \n",
       "\n",
       "  Latest industrial data Latest trade data Latest water withdrawal data  \\\n",
       "0                    NaN            2012.0                          NaN   \n",
       "1                    NaN            2012.0                         2000   \n",
       "\n",
       "  Unnamed: 31  \n",
       "0         NaN  \n",
       "1         NaN  \n",
       "\n",
       "[2 rows x 32 columns]"
      ]
     },
     "execution_count": 4094,
     "metadata": {},
     "output_type": "execute_result"
    }
   ],
   "source": [
    "# ETUDE DES 5 PREMIERES LIGNES DU DATAFRAME\n",
    "Fichier_Country.head(2)"
   ]
  },
  {
   "cell_type": "markdown",
   "metadata": {},
   "source": [
    "DE PRIME ABORD ON PEUT CONSTATER QUE CE FICHIER EST TRIE PAR ORDRE ALPHABETIQUE DE COUNTRY CODE\n",
    "\n",
    "IL COMPORTE 32 COLONNES COMME LE COUNTRY CODE QUI SERT D'IDENTIFIANT\n",
    "\n",
    "LES DIFFERENTS NOMS (SHORT, TABLE, LONG)\n",
    "\n",
    "LE PIB (HIGH, LOW ...)\n",
    "\n",
    "DES DATES DE RECENSEMENT DE LA POPULATION ET DES PARCELLES AGRICOLES ET AUTRES\n"
   ]
  },
  {
   "cell_type": "code",
   "execution_count": 4095,
   "metadata": {},
   "outputs": [
    {
     "name": "stdout",
     "output_type": "stream",
     "text": [
      "<class 'pandas.core.frame.DataFrame'>\n",
      "RangeIndex: 241 entries, 0 to 240\n",
      "Data columns (total 32 columns):\n",
      " #   Column                                             Non-Null Count  Dtype  \n",
      "---  ------                                             --------------  -----  \n",
      " 0   Country Code                                       241 non-null    object \n",
      " 1   Short Name                                         241 non-null    object \n",
      " 2   Table Name                                         241 non-null    object \n",
      " 3   Long Name                                          241 non-null    object \n",
      " 4   2-alpha code                                       238 non-null    object \n",
      " 5   Currency Unit                                      215 non-null    object \n",
      " 6   Special Notes                                      145 non-null    object \n",
      " 7   Region                                             214 non-null    object \n",
      " 8   Income Group                                       214 non-null    object \n",
      " 9   WB-2 code                                          240 non-null    object \n",
      " 10  National accounts base year                        205 non-null    object \n",
      " 11  National accounts reference year                   32 non-null     float64\n",
      " 12  SNA price valuation                                197 non-null    object \n",
      " 13  Lending category                                   144 non-null    object \n",
      " 14  Other groups                                       58 non-null     object \n",
      " 15  System of National Accounts                        215 non-null    object \n",
      " 16  Alternative conversion factor                      47 non-null     object \n",
      " 17  PPP survey year                                    145 non-null    object \n",
      " 18  Balance of Payments Manual in use                  181 non-null    object \n",
      " 19  External debt Reporting status                     124 non-null    object \n",
      " 20  System of trade                                    200 non-null    object \n",
      " 21  Government Accounting concept                      161 non-null    object \n",
      " 22  IMF data dissemination standard                    181 non-null    object \n",
      " 23  Latest population census                           213 non-null    object \n",
      " 24  Latest household survey                            141 non-null    object \n",
      " 25  Source of most recent Income and expenditure data  160 non-null    object \n",
      " 26  Vital registration complete                        111 non-null    object \n",
      " 27  Latest agricultural census                         142 non-null    object \n",
      " 28  Latest industrial data                             107 non-null    float64\n",
      " 29  Latest trade data                                  185 non-null    float64\n",
      " 30  Latest water withdrawal data                       179 non-null    object \n",
      " 31  Unnamed: 31                                        0 non-null      float64\n",
      "dtypes: float64(4), object(28)\n",
      "memory usage: 60.4+ KB\n"
     ]
    }
   ],
   "source": [
    "# RENTRONS PLUS EN DETAIL DANS L'EXPLORATION DE CE DATAFRAME\n",
    "Fichier_Country.info()"
   ]
  },
  {
   "cell_type": "markdown",
   "metadata": {},
   "source": [
    "CE FICHIER CONTIENT  241 LIGNES NUMEROTEES DE 0 A 240 ET 32 COLONNES NUMEROTEES DE 0 A 31. IL COMPORTE 4 COLONNES DE TYPES FLOAT (NOMBRES DECIMAUX) ET 28 DE TYPE OBJECT (CHAINE DE CARACTERES). \n",
    "\n",
    "ON CONSTATE QUE LA COLONNE N° 31 (Unnamed: 31) EST ENTIEREMENT VIDE, EN EFFET ELLE CONTIENT 0 NON-NULL. D'AUTRES COMME LA N°16 (Alternative conversion factor) OU ENCORE LA N°11 (National accounts reference year).... NE SONT QUE PEU REMPLIES. D'AUTRES COMME LA N°5 (Currency Unit) SONT QUASIMENT COMPLETES. ENFIN DES COLONNES TELLES QUE LA N°1 (Short Name) sont complétes. "
   ]
  },
  {
   "cell_type": "code",
   "execution_count": 4096,
   "metadata": {},
   "outputs": [
    {
     "data": {
      "text/plain": [
       "array(['Yes', nan, 'Yes. Vital registration for Guernsey and Jersey.'],\n",
       "      dtype=object)"
      ]
     },
     "execution_count": 4096,
     "metadata": {},
     "output_type": "execute_result"
    }
   ],
   "source": [
    "Fichier_Country['Vital registration complete'].unique()"
   ]
  },
  {
   "cell_type": "code",
   "execution_count": 4097,
   "metadata": {},
   "outputs": [],
   "source": [
    "# DANS UN PREMIER TEMPS ON NE VA CONSERVER QUE LES PAYS QUI ONT UN RENSEIGNEMENT DIF DE NAN DANS LA COLONNE VITAL REGISTRATION COMPLETE\n",
    "# CETTE COLONNE INDIQUANT LA QUALITE DES DEMARCHES EFFECTUEES A L'ETAT CIVIL (NAISSANCE,DECES, MARIAGE ...)\n",
    "# CE CHOIX ME SEMBLE PERTINENT AFIN DE DISPOSER ENSUITE DE VALEURS CORRECTES\n",
    "Fichier_Country=Fichier_Country.loc[(Fichier_Country['Vital registration complete']=='Yes. Vital registration for Guernsey and Jersey.') | (Fichier_Country['Vital registration complete']=='Yes')]"
   ]
  },
  {
   "cell_type": "code",
   "execution_count": 4098,
   "metadata": {},
   "outputs": [
    {
     "name": "stdout",
     "output_type": "stream",
     "text": [
      "['Special Notes', 'National accounts reference year', 'Lending category', 'Other groups', 'Alternative conversion factor', 'PPP survey year', 'External debt Reporting status', 'Latest household survey', 'Source of most recent Income and expenditure data', 'Latest agricultural census', 'Latest industrial data', 'Unnamed: 31']\n",
      "<class 'pandas.core.frame.DataFrame'>\n",
      "Index: 111 entries, 0 to 232\n",
      "Data columns (total 20 columns):\n",
      " #   Column                             Non-Null Count  Dtype  \n",
      "---  ------                             --------------  -----  \n",
      " 0   Country Code                       111 non-null    object \n",
      " 1   Short Name                         111 non-null    object \n",
      " 2   Table Name                         111 non-null    object \n",
      " 3   Long Name                          111 non-null    object \n",
      " 4   2-alpha code                       110 non-null    object \n",
      " 5   Currency Unit                      111 non-null    object \n",
      " 6   Region                             111 non-null    object \n",
      " 7   Income Group                       111 non-null    object \n",
      " 8   WB-2 code                          111 non-null    object \n",
      " 9   National accounts base year        106 non-null    object \n",
      " 10  SNA price valuation                99 non-null     object \n",
      " 11  System of National Accounts        111 non-null    object \n",
      " 12  Balance of Payments Manual in use  91 non-null     object \n",
      " 13  System of trade                    107 non-null    object \n",
      " 14  Government Accounting concept      85 non-null     object \n",
      " 15  IMF data dissemination standard    89 non-null     object \n",
      " 16  Latest population census           111 non-null    object \n",
      " 17  Vital registration complete        111 non-null    object \n",
      " 18  Latest trade data                  98 non-null     float64\n",
      " 19  Latest water withdrawal data       90 non-null     object \n",
      "dtypes: float64(1), object(19)\n",
      "memory usage: 18.2+ KB\n"
     ]
    }
   ],
   "source": [
    "# ON VA DROP TOUTES LES COLONNES QUI ONT PLUS DE 30% DE NAN\n",
    "\n",
    "Liste_à_drop = []\n",
    "for features in Fichier_Country.columns:\n",
    "    if Fichier_Country[features].isnull().sum()>0.3*Fichier_Country.shape[0]:\n",
    "        Liste_à_drop.append(features)\n",
    "print(Liste_à_drop)\n",
    "Fichier_Country=Fichier_Country.drop(Liste_à_drop,axis=1)\n",
    "Fichier_Country.info()"
   ]
  },
  {
   "cell_type": "markdown",
   "metadata": {},
   "source": [
    "# ***<u> P1 - 2) PASSONS AU PROCHAIN FICHIER NOMME EdStatsCountry-Series</u>***\n"
   ]
  },
  {
   "cell_type": "code",
   "execution_count": 4099,
   "metadata": {},
   "outputs": [],
   "source": [
    "# DEFINITION DU PATH\n",
    "path=r'C:\\Users\\lenovo\\Desktop\\OpenClassrooms\\PROJET_OC\\PROJET_2\\RESSOURCES\\Projet+Python_Dataset_Edstats_csv\\EdStatsCountry-Series.csv'"
   ]
  },
  {
   "cell_type": "code",
   "execution_count": 4100,
   "metadata": {},
   "outputs": [],
   "source": [
    "# CREATION DU DATAFRAME CORRESPONDANT\n",
    "Fichier_Country_Series = pd.read_csv(path)"
   ]
  },
  {
   "cell_type": "code",
   "execution_count": 4101,
   "metadata": {},
   "outputs": [
    {
     "data": {
      "text/html": [
       "<div>\n",
       "<style scoped>\n",
       "    .dataframe tbody tr th:only-of-type {\n",
       "        vertical-align: middle;\n",
       "    }\n",
       "\n",
       "    .dataframe tbody tr th {\n",
       "        vertical-align: top;\n",
       "    }\n",
       "\n",
       "    .dataframe thead th {\n",
       "        text-align: right;\n",
       "    }\n",
       "</style>\n",
       "<table border=\"1\" class=\"dataframe\">\n",
       "  <thead>\n",
       "    <tr style=\"text-align: right;\">\n",
       "      <th></th>\n",
       "      <th>CountryCode</th>\n",
       "      <th>SeriesCode</th>\n",
       "      <th>DESCRIPTION</th>\n",
       "      <th>Unnamed: 3</th>\n",
       "    </tr>\n",
       "  </thead>\n",
       "  <tbody>\n",
       "    <tr>\n",
       "      <th>0</th>\n",
       "      <td>ABW</td>\n",
       "      <td>SP.POP.TOTL</td>\n",
       "      <td>Data sources : United Nations World Population...</td>\n",
       "      <td>NaN</td>\n",
       "    </tr>\n",
       "    <tr>\n",
       "      <th>1</th>\n",
       "      <td>ABW</td>\n",
       "      <td>SP.POP.GROW</td>\n",
       "      <td>Data sources: United Nations World Population ...</td>\n",
       "      <td>NaN</td>\n",
       "    </tr>\n",
       "    <tr>\n",
       "      <th>2</th>\n",
       "      <td>AFG</td>\n",
       "      <td>SP.POP.GROW</td>\n",
       "      <td>Data sources: United Nations World Population ...</td>\n",
       "      <td>NaN</td>\n",
       "    </tr>\n",
       "    <tr>\n",
       "      <th>3</th>\n",
       "      <td>AFG</td>\n",
       "      <td>NY.GDP.PCAP.PP.CD</td>\n",
       "      <td>Estimates are based on regression.</td>\n",
       "      <td>NaN</td>\n",
       "    </tr>\n",
       "    <tr>\n",
       "      <th>4</th>\n",
       "      <td>AFG</td>\n",
       "      <td>SP.POP.TOTL</td>\n",
       "      <td>Data sources : United Nations World Population...</td>\n",
       "      <td>NaN</td>\n",
       "    </tr>\n",
       "  </tbody>\n",
       "</table>\n",
       "</div>"
      ],
      "text/plain": [
       "  CountryCode         SeriesCode  \\\n",
       "0         ABW        SP.POP.TOTL   \n",
       "1         ABW        SP.POP.GROW   \n",
       "2         AFG        SP.POP.GROW   \n",
       "3         AFG  NY.GDP.PCAP.PP.CD   \n",
       "4         AFG        SP.POP.TOTL   \n",
       "\n",
       "                                         DESCRIPTION  Unnamed: 3  \n",
       "0  Data sources : United Nations World Population...         NaN  \n",
       "1  Data sources: United Nations World Population ...         NaN  \n",
       "2  Data sources: United Nations World Population ...         NaN  \n",
       "3                 Estimates are based on regression.         NaN  \n",
       "4  Data sources : United Nations World Population...         NaN  "
      ]
     },
     "execution_count": 4101,
     "metadata": {},
     "output_type": "execute_result"
    }
   ],
   "source": [
    "# ETUDE DES 5 PREMIERES LIGNES DU DATAFRAME\n",
    "Fichier_Country_Series.head(5)"
   ]
  },
  {
   "cell_type": "markdown",
   "metadata": {},
   "source": [
    "DE PRIME ABORD ON PEUT CONSTATER QUE CE FICHIER EST TRIE PAR ORDRE ALPHABETIQUE DE COUNTRY CODE\n",
    "\n",
    "IL COMPORTE 4 COLONNES COMME LE COUNTRY CODE QUI SERT D'IDENTIFIANT\n",
    "\n",
    "UNE COLONNE NOMMEE SeriesCode EN LIEN CERTAINEMENT AVEFC LE FICHIER EdStatsSeries\n",
    "\n",
    "UNE COLONNE DESCRIPTION INDIQUANT LA SOURCE DES INFOS. ON CONSTATE QUE LES SOURCES VARIENT. CERTAINES OFFICIELLES COMME L'ONU. D'AUTRES OBTENUES PAR REGRESSION\n",
    "\n",
    "UNE COLONNE Unnamed: 3 CERTAINEMENT ENTIEREMENT VIDE COMME SUR LE FICHIER PRECEDENT"
   ]
  },
  {
   "cell_type": "code",
   "execution_count": 4102,
   "metadata": {},
   "outputs": [
    {
     "name": "stdout",
     "output_type": "stream",
     "text": [
      "<class 'pandas.core.frame.DataFrame'>\n",
      "RangeIndex: 613 entries, 0 to 612\n",
      "Data columns (total 4 columns):\n",
      " #   Column       Non-Null Count  Dtype  \n",
      "---  ------       --------------  -----  \n",
      " 0   CountryCode  613 non-null    object \n",
      " 1   SeriesCode   613 non-null    object \n",
      " 2   DESCRIPTION  613 non-null    object \n",
      " 3   Unnamed: 3   0 non-null      float64\n",
      "dtypes: float64(1), object(3)\n",
      "memory usage: 19.3+ KB\n"
     ]
    }
   ],
   "source": [
    "# RENTRONS PLUS EN DETAIL DANS L'EXPLORATION DE CE DATAFRAME\n",
    "Fichier_Country_Series.info()"
   ]
  },
  {
   "cell_type": "markdown",
   "metadata": {},
   "source": [
    "CE FICHIER CONTIENT  ***613 LIGNES*** NUMEROTEES DE 0 A 612 ET ***4 COLONNES*** NUMEROTEES DE 0 A 3. IL COMPORTE *****1 COLONNE DE TYPES FLOAT***** (NOMBRES DECIMAUX) ET ***3 DE TYPE OBJECT*** (CHAINE DE CARACTERES)."
   ]
  },
  {
   "cell_type": "markdown",
   "metadata": {},
   "source": [
    "ON CONSTATE QUE LA COLONNE N° 3 (Unnamed: 3) EST ENTIEREMENT VIDE, EN EFFET ELLE CONTIENT 0 NON-NULL. QUANT AU RESTE DES COLONNES ELLES SONT COMPLETES. "
   ]
  },
  {
   "cell_type": "code",
   "execution_count": 4103,
   "metadata": {},
   "outputs": [],
   "source": [
    "# ON VA DROP Unnamed: 3\n",
    "\n",
    "Fichier_Country_Series=Fichier_Country_Series.drop(['Unnamed: 3'],axis=1)\n",
    "\n"
   ]
  },
  {
   "cell_type": "markdown",
   "metadata": {},
   "source": [
    "# ***<u> P1 - 3) PASSONS AU PROCHAIN FICHIER NOMME EdStatsData</u>***\n",
    "\n"
   ]
  },
  {
   "cell_type": "code",
   "execution_count": 4104,
   "metadata": {},
   "outputs": [],
   "source": [
    "# DEFINITION DU PATH\n",
    "path=r'C:\\Users\\lenovo\\Desktop\\OpenClassrooms\\PROJET_OC\\PROJET_2\\RESSOURCES\\Projet+Python_Dataset_Edstats_csv\\EdStatsData.csv'"
   ]
  },
  {
   "cell_type": "code",
   "execution_count": 4105,
   "metadata": {},
   "outputs": [],
   "source": [
    "# CREATION DU DATAFRAME CORRESPONDANT\n",
    "Fichier_Data = pd.read_csv(path)"
   ]
  },
  {
   "cell_type": "code",
   "execution_count": null,
   "metadata": {},
   "outputs": [],
   "source": [
    "# ETUDE DES 5 PREMIERES LIGNES DU DATAFRAME\n",
    "Fichier_Data.head()"
   ]
  },
  {
   "cell_type": "markdown",
   "metadata": {},
   "source": [
    "DE PRIME ABORD ON PEUT CONSTATER QUE CE FICHIER EST TRIE PAR ORDRE ALPHABETIQUE DE COUNTRY NAME, CEPENDANT ICI IL SEMBLE PLUTOT S'AGIR DE GROUPE GEOGRAPHIQUE COMME Arab World (Monde Arabe) OU ENCORE East Asia & Pacific (Espace Asie Pacifique). IL FAUDRA EXPLORER PLUS EN PROFONDEUR CES RENSEIGNEMENTS\n",
    "\n",
    "IL COMPORTE 70 COLONNES COMME LE COUNTRY CODE QUI SERT D'IDENTIFIANT\n",
    "\n",
    "DEUX COLONNES NOMMEES Country Name ET Country Code QUI REPRESENTENT EN FAIT LES CODE DE REGIONS GEOGRAPHIOQUES AINSI QUE LEUR VERSIONS ABREGEES (EX : Arab World -> ARB)\n",
    "\n",
    "DEUX COLONNES NOMMEES Indicator Name ET Indicator Code QUI SONT L'INDICATEUR ETUDIE AINSI QUE SON ABREVIATION (EX : Adujstment... -> UIS.NERA.2)\n",
    "\n",
    "LA DERNIERE NOMMEE Unnamed: 69 CERTAINEMENT VIDE COMME SUR LES FICHIERS PRECEDENT\n",
    "\n",
    "QUANT AUX 65 COLONNES RESTANTES ELLES REPRESENTENT TOUTES UNE ANNE DIFFERENTES CONTENANT LES VALEURS CONNUES POUR L'INDICATEUR PRECISE DANS LA COLONNE Indicator Name A LA DATE INDIQUEE PAR LA COLONNE. LES ANNEES AVANCENT D'UN PAS DE 1 DE 1970 A 2017 INCLUS PUIS AVANCENT D'UN PAS DE 5 DE 2020 A 2100 INCLUS.\n",
    "\n",
    "\n"
   ]
  },
  {
   "cell_type": "code",
   "execution_count": null,
   "metadata": {},
   "outputs": [],
   "source": [
    "# RENTRONS PLUS EN DETAIL DANS L'EXPLORATION DE CE DATAFRAME\n",
    "Fichier_Data.info()"
   ]
  },
  {
   "cell_type": "markdown",
   "metadata": {},
   "source": [
    "\n",
    "CE FICHIER CONTIENT  886930 LIGNES NUMEROTEES DE 0 A 886929 ET 70 COLONNES NUMEROTEES DE 0 A 69. IL COMPORTE 66 COLONNE DE TYPES FLOAT (NOMBRES DECIMAUX) ET 4 DE TYPE OBJECT (CHAINE DE CARACTERES). \n"
   ]
  },
  {
   "cell_type": "markdown",
   "metadata": {},
   "source": [
    "\n",
    "ON CONSTATE QUE LA COLONNE N° 69 (Unnamed: 69) EST ENTIEREMENT VIDE, EN EFFET ELLE CONTIENT 0 NON-NULL. LA COLONNE N°51 REPRESENTANT L'ANNEE 2017 EST TRES PEU RENSEIGNEE (SEULEMENT 143 NON-NULL).LES ANNEES TERMINANT PAR 0 OU 5 ENTRE 1970 ET 1990 INCLUS SONT MIEUX RENSEIGNEES QUE LES AUTRES SUR LA MEME PERIODE. CE PHENOMENE CE REPETE DE 1990 A 2000 BIEN QUE SUR CETTE PERIODE LES \"FAIBLES\" RENSEIGNEMENTS ONT OTUT DE MEME DOUBLES EN VALEUR ABSOLUE. A PARTIR DES ANNEES 1999-2000 JUSQU'EN 2015 LES RENSEIGNEMENTS VONT DE 120K A 200K VOIR 240K. 2016 ET 2017 ETANT TRES MAL RENSEIGNEES LES COLONNES N°52 JUSQU'A 68 c.à.d. DE L'ANNEE 2020 JUSQU'A L'ANNEE 2100 COMPORTE TOUTES 51436 VALEURS NON NULLES (CERTAINEMENT DES PROJECTIONS DE VALEURS)\n"
   ]
  },
  {
   "cell_type": "code",
   "execution_count": null,
   "metadata": {},
   "outputs": [],
   "source": [
    "list(Fichier_Data['Indicator Name'].unique())"
   ]
  },
  {
   "cell_type": "code",
   "execution_count": null,
   "metadata": {},
   "outputs": [],
   "source": [
    "list(Fichier_Data['Indicator Code'].unique())"
   ]
  },
  {
   "cell_type": "code",
   "execution_count": null,
   "metadata": {},
   "outputs": [],
   "source": [
    "Fichier_Data['Country Name'].unique()"
   ]
  },
  {
   "cell_type": "markdown",
   "metadata": {},
   "source": [
    "ON CONSTATE QUE DANS CETTE TABLE LE COUNTRY CODE DESIGNE DES PAYS MAIS AUSSI DES ZONES REGIONALES (COMME ASIE DE L'EST ET PACIFIQUE (AVEC LES LOW INCOME INCLUS OU NON), PAYS DE L'OCDE, ZONE EURO...) VOIR LA TOTALITE DU MONDE.\n"
   ]
  },
  {
   "cell_type": "code",
   "execution_count": null,
   "metadata": {},
   "outputs": [],
   "source": [
    "# ON VA DROP TOUTES LES COLONNES QUI N'ONT PAS AU MOINS 5% DE NON NULL\n",
    "\n",
    "Liste_à_drop = []\n",
    "for features in Fichier_Data.columns:\n",
    "    if Fichier_Data[features].isnull().sum()>0.95*Fichier_Data.shape[0]:\n",
    "        Liste_à_drop.append(features)\n",
    "print(Liste_à_drop)\n",
    "Fichier_Data=Fichier_Data.drop(Liste_à_drop,axis=1)\n",
    "Fichier_Data.info()"
   ]
  },
  {
   "cell_type": "code",
   "execution_count": null,
   "metadata": {},
   "outputs": [],
   "source": [
    "# ON VA MAINTENANT DROP LES LIGNES TROP PEU RENSEIGNEES \n",
    "# J'AI CHOISI UNE LIMITE A AU MOINS 22 NON NULL DANS LA LIGNE AFIN D'INCLURE LES LIGNES QUI ONT AU MOINS UNE DONNEE SUPPLEMENTAIRE\n",
    "# QUE LES 4 PREMIERES(QUI NE MANQUENT NULLE PART) ET LES 17 DERNIERES QUI SONT DES PROJECTIONS\n",
    "Fichier_Data=Fichier_Data.dropna(thresh=22)\n",
    "Fichier_Data.info()"
   ]
  },
  {
   "cell_type": "code",
   "execution_count": null,
   "metadata": {},
   "outputs": [],
   "source": [
    "Fichier_Data.head()"
   ]
  },
  {
   "cell_type": "markdown",
   "metadata": {},
   "source": [
    "# ***<u> P1 - 4) PASSONS AU PROCHAIN FICHIER NOMME EdStatsFootNote</u>***"
   ]
  },
  {
   "cell_type": "code",
   "execution_count": 4003,
   "metadata": {},
   "outputs": [],
   "source": [
    "# DEFINITION DU PATH\n",
    "path=r'C:\\Users\\lenovo\\Desktop\\OpenClassrooms\\PROJET_OC\\PROJET_2\\RESSOURCES\\Projet+Python_Dataset_Edstats_csv\\EdStatsFootNote.csv'"
   ]
  },
  {
   "cell_type": "code",
   "execution_count": 4004,
   "metadata": {},
   "outputs": [],
   "source": [
    "# CREATION DU DATAFRAME CORRESPONDANT\n",
    "Fichier_FootNote = pd.read_csv(path)"
   ]
  },
  {
   "cell_type": "code",
   "execution_count": null,
   "metadata": {},
   "outputs": [],
   "source": [
    "# ETUDE DES 5 PREMIERES LIGNES DU DATAFRAME\n",
    "Fichier_FootNote.head(5)"
   ]
  },
  {
   "cell_type": "markdown",
   "metadata": {},
   "source": [
    "\n",
    "DE PRIME ABORD ON PEUT CONSTATER QUE CE FICHIER EST TRIE PAR ORDRE ALPHABETIQUE DE COUNTRY CODE, ABW POUR ARUBA COMME ON A PU LE VOIR DANS LE 1ER FICHIER. IL FAUDRA EXPLORER PLUS EN PROFONDEUR CES RENSEIGNEMENTS\n",
    "\n",
    "IL COMPORTE 5 COLONNES COMME LE COUNTRY CODE QUI SERT D'IDENTIFIANT\n",
    "\n",
    "UNE COLONNE CountryCode REFERENCANT LA ZONE GEOGRAPHIQUE\n",
    "\n",
    "UNE COLONNE NOMMEE SeriesCode REFERENCANT LE CODE DE LA SERIE DE DONNEES\n",
    "\n",
    "UNE COLONNE Year RENSEIGNANT L'ANNEE A LAQUELLE SE RAPPORTE LA SERIE\n",
    "\n",
    "UNE COLONNE DESCRIPTION EXPLIQUANT SI LA DONNEE EST UNE ESTIMATION OU UNE DONNEE COLLECTEE\n",
    "\n",
    "LA DERNIERE NOMMEE Unnamed: 4 CERTAINEMENT VIDE COMME SUR LES FICHIERS PRECEDENT\n"
   ]
  },
  {
   "cell_type": "code",
   "execution_count": null,
   "metadata": {},
   "outputs": [],
   "source": [
    "# RENTRONS PLUS EN DETAIL DANS L'EXPLORATION DE CE DATAFRAME\n",
    "Fichier_FootNote.info()\n"
   ]
  },
  {
   "cell_type": "markdown",
   "metadata": {},
   "source": [
    "\n",
    "CE FICHIER CONTIENT  643638 LIGNES NUMEROTEES DE 0 A 643637 ET 5 COLONNES NUMEROTEES DE 0 A 4. IL COMPORTE 1 COLONNE DE TYPES FLOAT (NOMBRES DECIMAUX) ET 4 DE TYPE OBJECT (CHAINE DE CARACTERES). \n",
    "\n",
    "ON CONSTATE QUE LA COLONNE N° 4 (Unnamed: 4) EST ENTIEREMENT VIDE, EN EFFET ELLE CONTIENT 0 NON-NULL. QUANT AUX AUTRES COLONNE ELLES SONT TOUTES COMPLETES\n"
   ]
  },
  {
   "cell_type": "code",
   "execution_count": 4007,
   "metadata": {},
   "outputs": [],
   "source": [
    "# ON VA DROP la colonne Unnamed: 4\n",
    "\n",
    "Fichier_FootNote=Fichier_FootNote.drop(['Unnamed: 4'],axis=1)"
   ]
  },
  {
   "cell_type": "markdown",
   "metadata": {},
   "source": [
    "# ***<u> P1 - 5) PASSONS AU PROCHAIN FICHIER NOMME EdStatsSeries</u>***"
   ]
  },
  {
   "cell_type": "code",
   "execution_count": 4008,
   "metadata": {},
   "outputs": [],
   "source": [
    "# DEFINITION DU PATH\n",
    "path=r'C:\\Users\\lenovo\\Desktop\\OpenClassrooms\\PROJET_OC\\PROJET_2\\RESSOURCES\\Projet+Python_Dataset_Edstats_csv\\EdStatsSeries.csv'"
   ]
  },
  {
   "cell_type": "code",
   "execution_count": 4009,
   "metadata": {},
   "outputs": [],
   "source": [
    "# CREATION DU DATAFRAME CORRESPONDANT\n",
    "Fichier_Series = pd.read_csv(path)"
   ]
  },
  {
   "cell_type": "code",
   "execution_count": null,
   "metadata": {},
   "outputs": [],
   "source": [
    "# ETUDE DES 5 PREMIERES LIGNES DU DATAFRAME\n",
    "Fichier_Series.head(2)"
   ]
  },
  {
   "cell_type": "markdown",
   "metadata": {},
   "source": [
    "\n",
    "DE PRIME ABORD ON PEUT CONSTATER QUE CE FICHIER EST TRIE PAR ORDRE ALPHABETIQUE DE Series Code, IL SEMBLERAIT QUE DANS LE NOM SE TROUVE LA TRNACHE D'AGE ETUDIE PAR EXEMPLE 1519 POUR LES 15-19 ANS. IL FAUDRA EXPLORER PLUS EN PROFONDEUR CES RENSEIGNEMENTS\n",
    "\n",
    "L'ENSEMBLE DES COLONNES A POUR BUT DE RENSEIGNER LA MANIERE DONT ONT ETE COLLECTEES LES DONNEES, LES SOURCES UTILISEES, LES UNITES DE MESURES..."
   ]
  },
  {
   "cell_type": "code",
   "execution_count": null,
   "metadata": {},
   "outputs": [],
   "source": [
    "# RENTRONS PLUS EN DETAIL DANS L'EXPLORATION DE CE DATAFRAME\n",
    "Fichier_Series.info()"
   ]
  },
  {
   "cell_type": "markdown",
   "metadata": {},
   "source": [
    "\n",
    "CE FICHIER CONTIENT  3665 LIGNES NUMEROTEES DE 0 A 3664 ET 21 COLONNES NUMEROTEES DE 0 A 20. IL COMPORTE 6 COLONNE DE TYPES FLOAT (NOMBRES DECIMAUX) ET 15 DE TYPE OBJECT (CHAINE DE CARACTERES). \n",
    "A NOTER QUE TOUTES LES COLONNES DE TYPES FLOAT SONT ENTIEREMENT VIDES"
   ]
  },
  {
   "cell_type": "markdown",
   "metadata": {},
   "source": [
    "\n",
    "LES COLONNES N° 0, 1, 2, 4, 13 SONT COMPLETES. LA COLONNE N°3 Short Definition EST QUANT A ELLE COMPLETES A ENVIRON 60%. QUANT AUX AUTRES ELLES NE DEPASSENT PAS LES 552 RENSEIGNEMENTS (ENVIRON 15%). ENFIN LES N° 5, 11, 17, 18, 19, 20 SONT ENTIEREMENT VIDES"
   ]
  },
  {
   "cell_type": "code",
   "execution_count": null,
   "metadata": {},
   "outputs": [],
   "source": [
    "# ON VA DROP TOUTES LES COLONNES QUI N'ONT PAS AU MOINS 70% DE NON NULL\n",
    "\n",
    "Liste_à_drop = []\n",
    "for features in Fichier_Series.columns:\n",
    "    if Fichier_Series[features].isnull().sum()>0.3*Fichier_Series.shape[0]:\n",
    "        Liste_à_drop.append(features)\n",
    "print(Liste_à_drop)\n",
    "Fichier_Series=Fichier_Series.drop(Liste_à_drop,axis=1)\n",
    "Fichier_Series.info()"
   ]
  },
  {
   "cell_type": "markdown",
   "metadata": {},
   "source": [
    "# ***<u> P1 - 6) FIN ETUDE PRELIMINAIRE</u>***"
   ]
  },
  {
   "cell_type": "markdown",
   "metadata": {},
   "source": [
    "# ***<u> P2 - 1) SUITE DE L'ETUDE</u>***"
   ]
  },
  {
   "cell_type": "markdown",
   "metadata": {},
   "source": [
    "REPRISE DE L'ANALYSE\n",
    "\n",
    "LE FICHIER \"Fichier_Series\" NE SEMBLE PAS PERTINENT POUR L'ANALYSE (IL DETAILLE EN FAIT LA METHODOLOGIE APPLIQUEE POUR RECUEUILLIR L'ENSEMBLE DES DONNEES)\n",
    "\n",
    "DE MEME POUR \"Fichier_Footnote\" AINSI QUE \"Fichier_Country_Series\" QUI LA AUSSI SONT DES FICHIERS DE METHODOLOGIE."
   ]
  },
  {
   "cell_type": "markdown",
   "metadata": {},
   "source": [
    "NOUS ALLONS REGROUPER LES INFORMATIONS FOURNIES DANS LE DATAFRAME \"Fichier_Data\" DES ANNEES 2011 A 2015 AFIN D'AVOIR DES DONNEES EXPLOITABLES"
   ]
  },
  {
   "cell_type": "code",
   "execution_count": null,
   "metadata": {},
   "outputs": [],
   "source": [
    "# AGREGATION DES VALEURS DE 2011 A 2015\n",
    "Fichier_Data['Periode 2011-2015']=Fichier_Data[['2011', '2012', '2013', '2014', '2015']].sum(axis=1)\n",
    "Fichier_Data.tail()"
   ]
  },
  {
   "cell_type": "code",
   "execution_count": null,
   "metadata": {},
   "outputs": [],
   "source": [
    "# ON VA MAINTENANT CREER UN DATAFRAME DONT LES COLONNES SERONT \"COUNTRY CODE\"\n",
    "# AINSI QUE CHAQUE INDICATOR Name PRESENTS DANS LA COLONNE \"INDICATOR NAME\" ACTUELLE.\n",
    "# POUR LES VALEURS DE CES COLONNES NOUS UTILISERONS LES VALEURS \"PERIODE 2011-2015\"\n",
    "\n",
    "DF_pivot=Fichier_Data.pivot(index='Country Code',columns='Indicator Name',values='Periode 2011-2015')\n",
    "DF_pivot=DF_pivot.reset_index()\n",
    "\n",
    "DF_pivot\n"
   ]
  },
  {
   "cell_type": "markdown",
   "metadata": {},
   "source": [
    "ON A MAINTENANT UN DF CONTENANT 241 LIGNES (UNE PAR COUNTRY CODE) ET 1049 COLONNES (DIVERS INDICATEURS)"
   ]
  },
  {
   "cell_type": "markdown",
   "metadata": {},
   "source": [
    "VERIFIONS QUE LES DONNEES SONT AU BON ENDROIT"
   ]
  },
  {
   "cell_type": "code",
   "execution_count": null,
   "metadata": {},
   "outputs": [],
   "source": [
    "Fichier_Data.loc[(Fichier_Data['Indicator Name']=='Adjusted net intake rate to Grade 1 of primary education, both sexes (%)') \n",
    "                  & (Fichier_Data['Country Code']=='ZMB'),'Periode 2011-2015']"
   ]
  },
  {
   "cell_type": "code",
   "execution_count": null,
   "metadata": {},
   "outputs": [],
   "source": [
    "DF_pivot.loc[DF_pivot['Country Code']=='ZMB','Adjusted net intake rate to Grade 1 of primary education, both sexes (%)']"
   ]
  },
  {
   "cell_type": "markdown",
   "metadata": {},
   "source": [
    "ON RETROUVE LES MEMES VALEURS PARFAIT"
   ]
  },
  {
   "cell_type": "code",
   "execution_count": 4017,
   "metadata": {},
   "outputs": [],
   "source": [
    "\n",
    "# CALCULER LE POURCENTAGE DE NAN POUR CHAQUE COLONNES\n",
    "POURCENTAGE_NAN = DF_pivot.isnull().mean() * 100\n"
   ]
  },
  {
   "cell_type": "markdown",
   "metadata": {},
   "source": [
    "ICI DF_PIVOT.ISNULL() EST UN DATA FRAME DE MEME TAILLE QUE DF_PIVOT COMPOSE DE BOOLEENS TRUE SI LA VALEUR EST NAN FALSE SINON\n",
    "\n",
    "ENSUITE .MEAN() CALCULE LA MOYENNE PAR COLONNE (1 POUR TRUE ET 0 POUR FALSE)\n",
    "\n",
    "EN MULTIPLIANT CETTE MOYENNE PAR 100 ON OBTIENT LE POURCENTAGE DE NAN PRESENTS DANS CHAQUE COLONNE"
   ]
  },
  {
   "cell_type": "code",
   "execution_count": 4018,
   "metadata": {},
   "outputs": [],
   "source": [
    "\n",
    "# DEFINITION DE LA LIMITE DE NAN ACCEPTABLE\n",
    "limite = 30\n"
   ]
  },
  {
   "cell_type": "code",
   "execution_count": null,
   "metadata": {},
   "outputs": [],
   "source": [
    "# VISUALISATION AVEC UN HISTOGRAMME\n",
    "plt.figure(figsize=(12, 6))\n",
    "plt.hist(POURCENTAGE_NAN, bins=10, edgecolor='black',color='blue')\n",
    "\n",
    "plt.axvline(limite, color='r', linestyle='--', linewidth=2, label=f'Limite ({limite}%)')\n",
    "plt.title(\"Distribution des pourcentages de NaN \")\n",
    "plt.xlabel(\"Pourcentage de NaN\",fontsize=14)\n",
    "\n",
    "\n",
    "plt.legend()\n",
    "\n",
    "ax=plt.gca() # commande permettant de créer un objet ax pour modifier les axes\n",
    "\n",
    "ax.spines['top'].set_visible(False)\n",
    "ax.spines['left'].set_visible(False)\n",
    "ax.spines['right'].set_visible(False)\n",
    "\n",
    "patches=plt.hist(POURCENTAGE_NAN, bins=10, edgecolor='black',color='blue')[2] # collection des barres retournée par plt.hist\n",
    "\n",
    "ax.bar_label(patches, label_type='edge', fontsize=12)\n",
    "\n",
    "ax.yaxis.set_visible(False)\n",
    "plt.show()\n",
    "\n"
   ]
  },
  {
   "cell_type": "code",
   "execution_count": null,
   "metadata": {},
   "outputs": [],
   "source": [
    "# NOUS ALLONS MAINTENANT DROP LES COLONNES CONTENANT PLUS DE 30% DE NAN\n",
    "\n",
    "Liste_à_drop=[]\n",
    "for features in DF_pivot.columns:\n",
    "    if DF_pivot[features].isnull().sum()>0.3*DF_pivot.shape[0] and features not in ['Enrolment in secondary education, both sexes (number)',\n",
    " 'Enrolment in secondary vocational, both sexes (number)',\n",
    " 'Enrolment in tertiary education, all programmes, both sexes (number)',\n",
    " 'Net enrolment rate, secondary, gender parity index (GPI)']:\n",
    "        Liste_à_drop.append(features)\n",
    "Nbre_index_drop=len(Liste_à_drop)\n",
    "print(f\"On va retirer {Nbre_index_drop} indicateurs\")\n",
    "DF_pivot=DF_pivot.drop(Liste_à_drop,axis=1)\n",
    "DF_pivot.info()"
   ]
  },
  {
   "cell_type": "code",
   "execution_count": null,
   "metadata": {},
   "outputs": [],
   "source": [
    "DF_pivot"
   ]
  },
  {
   "cell_type": "markdown",
   "metadata": {},
   "source": [
    "ON CONSTATE QUE CERTAINS PAYS ONT ENCORE UN GRAND NOMBRE DE RENSEIGNEMENTS MANQUANTS\n",
    "\n",
    "VERIFIONS CA\n"
   ]
  },
  {
   "cell_type": "code",
   "execution_count": null,
   "metadata": {},
   "outputs": [],
   "source": [
    "\n",
    "# Calculer le pourcentage de NaN pour chaque pays\n",
    "POURCENTAGE_NAN_LIGNE = DF_pivot.groupby('Country Code').apply(lambda x: x.isna().mean() * 100).mean(axis=1).sort_values(ascending=False)\n",
    "POURCENTAGE_NAN_LIGNE"
   ]
  },
  {
   "cell_type": "code",
   "execution_count": null,
   "metadata": {},
   "outputs": [],
   "source": [
    "\n",
    "# Créer la figure et les axes\n",
    "fig, ax = plt.subplots(figsize=(12, 6))\n",
    "\n",
    "# Créer le diagramme en barres\n",
    "sns.barplot(x=POURCENTAGE_NAN_LIGNE.index, y=POURCENTAGE_NAN_LIGNE.values, ax=ax)\n",
    "\n",
    "\n",
    "\n",
    "# Personnaliser le graphique\n",
    "ax.set_title('Pourcentage de NaN par Pays', fontsize=16)\n",
    "ax.set_xlabel('Code Pays', fontsize=12)\n",
    "ax.set_ylabel('Pourcentage de NaN', fontsize=12)\n",
    "ax.tick_params(axis='x', rotation=90)  # Rotation des étiquettes de l'axe x\n",
    "\n",
    "# Ajouter une légende\n",
    "ax.legend()\n",
    "\n",
    "# Ajuster la mise en page\n",
    "plt.tight_layout()\n",
    "\n",
    "# Afficher le graphique\n",
    "plt.show()"
   ]
  },
  {
   "cell_type": "code",
   "execution_count": null,
   "metadata": {},
   "outputs": [],
   "source": [
    "POURCENTAGE_NAN_LIGNE = DF_pivot.groupby('Country Code').apply(lambda x: x.isna().mean() * 100).mean(axis=1).sort_values()\n",
    "# Créer la figure et les axes\n",
    "fig, ax = plt.subplots(figsize=(12, 6))\n",
    "\n",
    "# Créer le diagramme en barres\n",
    "sns.barplot(x=POURCENTAGE_NAN_LIGNE.index, y=POURCENTAGE_NAN_LIGNE.values, ax=ax)\n",
    "\n",
    "\n",
    "\n",
    "# Personnaliser le graphique\n",
    "ax.set_title('Pourcentage de NaN par Pays', fontsize=16)\n",
    "ax.set_xlabel('Code Pays', fontsize=12)\n",
    "ax.set_ylabel('Pourcentage de NaN', fontsize=12)\n",
    "ax.tick_params(axis='x', rotation=90)  # Rotation des étiquettes de l'axe x\n",
    "\n",
    "# Ajouter une légende\n",
    "ax.legend()\n",
    "\n",
    "# Ajuster la mise en page\n",
    "plt.tight_layout()\n",
    "\n",
    "# Afficher le graphique\n",
    "plt.show()"
   ]
  },
  {
   "cell_type": "markdown",
   "metadata": {},
   "source": [
    "ON PEUT VOIR SUR CE GRAPHIQUE QU'UNE PARTIE DES PAYS SEMBLENT N'AVOIR AUCUNE INFO MANQUANTES. NOUS ALLONS NOUS CONCENTRER SUR CES DERNIERS"
   ]
  },
  {
   "cell_type": "code",
   "execution_count": null,
   "metadata": {},
   "outputs": [],
   "source": [
    "# Calculer le pourcentage de NaN pour chaque pays\n",
    "POURCENTAGE_NAN_LIGNEs = DF_pivot.groupby('Country Code').apply(lambda x: x.isna().mean() * 100).mean(axis=1)\n",
    "\n",
    "\n",
    "# Compter le nombre de pays complets\n",
    "pays_complet = np.sum(POURCENTAGE_NAN_LIGNE <= 1)\n",
    "\n",
    "\n",
    "print(f\"Nombre de pays complet: {pays_complet}\")\n"
   ]
  },
  {
   "cell_type": "markdown",
   "metadata": {},
   "source": [
    "IL Y A DONC 122 PAYS COMPLETS. NOUS ALLONS LES CONSERVER ET ELIMINER LES AUTRES"
   ]
  },
  {
   "cell_type": "code",
   "execution_count": 4026,
   "metadata": {},
   "outputs": [],
   "source": [
    "# DROP DES LIGNES AVEC AU MOINS UN NAN\n",
    "DF_pivot=DF_pivot.dropna(axis=0,how='any')\n",
    "\n"
   ]
  },
  {
   "cell_type": "code",
   "execution_count": null,
   "metadata": {},
   "outputs": [],
   "source": [
    "DF_pivot"
   ]
  },
  {
   "cell_type": "code",
   "execution_count": null,
   "metadata": {},
   "outputs": [],
   "source": [
    "DF_pivot=DF_pivot.reset_index()\n",
    "DF_pivot"
   ]
  },
  {
   "cell_type": "code",
   "execution_count": null,
   "metadata": {},
   "outputs": [],
   "source": [
    "DF_pivot=DF_pivot.drop(['index'], axis=1)\n",
    "DF_pivot"
   ]
  },
  {
   "cell_type": "code",
   "execution_count": 4030,
   "metadata": {},
   "outputs": [],
   "source": [
    "DF_pivot=DF_pivot.drop(['Enrolment in primary education, both sexes (number)',\n",
    "       'Enrolment in primary education, female (number)','Enrolment in secondary general, female (number)','Theoretical duration of pre-primary education (years)',\n",
    "       'Theoretical duration of primary education (years)','Unemployment, female (% of female labor force)',\n",
    "       'Unemployment, male (% of male labor force)','Population, male', 'Population, male (% of total)','School life expectancy, primary, female (years)',\n",
    "       'School life expectancy, primary, male (years)','Population, ages 7-9, male', 'Population, ages 7-9, total',\n",
    "       'Population, female', 'Population, female (% of total)','Population, ages 7-13, female', 'Population, ages 7-13, male','Population, ages 7-9, female',\n",
    "       'Population, ages 7-12, female', 'Population, ages 7-12, male','Population, ages 7-11, male','Population, ages 7-11, female',\n",
    "       'GDP at market prices (constant 2005 US$)',\n",
    "       'GDP at market prices (current US$)',\n",
    "       'GDP per capita (constant 2005 US$)', 'GDP per capita (current US$)',\n",
    "       'GDP per capita, PPP (constant 2011 international $)',\n",
    "       'GDP per capita, PPP (current international $)',\n",
    "       'GDP, PPP (constant 2011 international $)','GNI (current US$)',\n",
    "       'GNI per capita, Atlas method (current US$)',\n",
    "       'GNI per capita, PPP (current international $)',\n",
    "       'GNI, PPP (current international $)','Labor force, female (% of total labor force)', 'Labor force, total','Mortality rate, under-5 (per 1,000)',\n",
    "       'Official entrance age to lower secondary education (years)',\n",
    "       'Official entrance age to pre-primary education (years)','Official entrance age to primary education (years)',\n",
    "       'Percentage of students in primary education who are female (%)','Percentage of students in secondary general education who are female (%)',\n",
    "       'Population growth (annual %)','Population of the official age for lower secondary education, both sexes (number)',\n",
    "       'Population of the official age for lower secondary education, female (number)',\n",
    "       'Population of the official age for lower secondary education, male (number)',\n",
    "       'Population of the official age for pre-primary education, both sexes (number)','Population of the official age for pre-primary education, female (number)',\n",
    "       'Population of the official age for pre-primary education, male (number)','Population of the official age for primary education, both sexes (number)',\n",
    "       'Population of the official age for primary education, female (number)','Population, ages 7-11, total',\n",
    "       'Population, ages 7-12, total', 'Population, ages 7-13, total','Population, ages 6-9, total', 'Population, ages 7-10, female',\n",
    "       'Population, ages 7-10, male','Population of the official age for primary education, male (number)',\n",
    "       'Population of the official age for secondary education, female (number)',\n",
    "       'Population of the official age for secondary education, male (number)','Population, ages 6-12, total', 'Population, ages 6-9, female',\n",
    "       'Population, ages 6-9, male','Population of the official age for tertiary education, female (number)','Population, ages 6-11, total', 'Population, ages 6-12, female',\n",
    "       'Population, ages 6-12, male','Population, ages 6-10, total', 'Population, ages 6-11, female',\n",
    "       'Population, ages 6-11, male','Gross enrolment ratio, primary, both sexes (%)',\n",
    "       'Gross enrolment ratio, primary, female (%)',\n",
    "       'Gross enrolment ratio, primary, gender parity index (GPI)',\n",
    "       'Gross enrolment ratio, primary, male (%)','Population, ages 5-9, total', 'Population, ages 6-10, female',\n",
    "       'Population, ages 6-10, male','Population of the official age for tertiary education, male (number)',\n",
    "       'Population of the official age for the last grade of primary education, both sexes (number)',\n",
    "       'Population of the official age for the last grade of primary education, female (number)',\n",
    "       'Population of the official age for the last grade of primary education, male (number)','Population, ages 5-11, total', 'Population, ages 5-9, female',\n",
    "       'Population, ages 5-9, male','Population of the official age for upper secondary education, female (number)',\n",
    "       'Population of the official age for upper secondary education, male (number)',\n",
    "       'Population of the official entrance age to primary education, both sexes (number)','Population, ages 5-10, total', 'Population, ages 5-11, female',\n",
    "       'Population, ages 5-11, male','Population of the official entrance age to primary education, female (number)',\n",
    "       'Population of the official entrance age to primary education, male (number)','Population, ages 4-6, total', 'Population, ages 5-10, female',\n",
    "       'Population, ages 5-10, male','Population of the official entrance age to secondary general education, female (number)',\n",
    "       'Population of the official entrance age to secondary general education, male (number)','Population, ages 3-5, total', 'Population, ages 4-6, female',\n",
    "       'Population, ages 4-6, male','Population, age 0, female', 'Population, age 0, male','Population, ages 15-64, total', 'Population, ages 3-5, female',\n",
    "       'Population, ages 3-5, male','Population, age 0, total', 'Population, age 1, female','Population, ages 15-64 (% of total)', 'Population, ages 15-64, female',\n",
    "       'Population, ages 15-64, male','Population, age 1, male', 'Population, age 1, total','Population, ages 15-24, female', 'Population, ages 15-24, male',\n",
    "       'Population, ages 15-24, total','Population, age 10, female', 'Population, age 10, male','Population, ages 14-19, female', 'Population, ages 14-19, male',\n",
    "       'Population, ages 14-19, total','Population, age 10, total', 'Population, age 11, female','Population, ages 14-18, female', 'Population, ages 14-18, male',\n",
    "       'Population, ages 14-18, total','Population, age 11, male', 'Population, age 11, total','Population, ages 13-19, female', 'Population, ages 13-19, male',\n",
    "       'Population, ages 13-19, total','Population, age 12, female', 'Population, age 12, male','Population, ages 13-18, female', 'Population, ages 13-18, male',\n",
    "       'Population, ages 13-18, total','Population, age 12, total', 'Population, age 13, female','Population, ages 13-17, female', 'Population, ages 13-17, male',\n",
    "       'Population, ages 13-17, total','Theoretical duration of lower secondary education (years)','Population, age 13, male', 'Population, age 13, total',\n",
    "       'Population, ages 12-18, total', 'Population, ages 13-16, female',\n",
    "       'Population, ages 13-16, male', 'Population, ages 13-16, total','Population, age 14, female', 'Population, age 14, male',\n",
    "       'Population, ages 12-17, male', 'Population, ages 12-17, total',\n",
    "       'Population, ages 12-18, female', 'Population, ages 12-18, male','Population, age 14, total', 'Population, age 15, female',\n",
    "       'Population, ages 12-16, female', 'Population, ages 12-16, male',\n",
    "       'Population, ages 12-16, total', 'Population, ages 12-17, female',\n",
    "       'Population, age 15, male', 'Population, age 15, total','Population, ages 11-18, total', 'Population, ages 12-15, female',\n",
    "       'Population, ages 12-15, male', 'Population, ages 12-15, total','Population, age 16, female', 'Population, age 16, male',\n",
    "       'Population, age 16, total', 'Population, age 17, female',\n",
    "       'Population, age 17, male', 'Population, age 17, total',\n",
    "       'Population, age 18, female', 'Population, age 18, male',\n",
    "       'Population, age 18, total', 'Population, age 19, female',\n",
    "       'Population, age 19, male', 'Population, age 19, total',\n",
    "       'Population, age 2, female', 'Population, age 2, male',\n",
    "       'Population, age 2, total', 'Population, age 20, female',\n",
    "       'Population, age 20, male', 'Population, age 20, total',\n",
    "       'Population, age 21, female', 'Population, age 21, male',\n",
    "       'Population, age 21, total', 'Population, age 22, female',\n",
    "       'Population, age 22, male', 'Population, age 22, total',\n",
    "       'Population, age 23, female', 'Population, age 23, male',\n",
    "       'Population, age 23, total', 'Population, age 24, female',\n",
    "       'Population, age 24, male', 'Population, age 24, total',\n",
    "       'Population, age 25, female', 'Population, age 25, male',\n",
    "       'Population, age 25, total', 'Population, age 3, female',\n",
    "       'Population, age 3, male', 'Population, age 3, total',\n",
    "       'Population, age 4, female', 'Population, age 4, male','Population, age 4, total', 'Population, age 5, female',\n",
    "       'Population, age 5, male', 'Population, age 5, total',\n",
    "       'Population, age 6, female', 'Population, age 6, male',\n",
    "       'Population, age 6, total', 'Population, age 7, female',\n",
    "       'Population, age 7, male', 'Population, age 7, total',\n",
    "       'Population, age 8, female', 'Population, age 8, male',\n",
    "       'Population, age 8, total', 'Population, age 9, female',\n",
    "       'Population, age 9, male', 'Population, age 9, total',\n",
    "       'Population, ages 0-14 (% of total)', 'Population, ages 0-14, female',\n",
    "       'Population, ages 0-14, male', 'Population, ages 0-14, total',\n",
    "       'Population, ages 10-14, female', 'Population, ages 10-14, male',\n",
    "       'Population, ages 10-14, total', 'Population, ages 10-15, female',\n",
    "       'Population, ages 10-15, male', 'Population, ages 10-15, total',\n",
    "       'Population, ages 10-16, female', 'Population, ages 10-16, male',\n",
    "       'Population, ages 10-16, total', 'Population, ages 10-17, female',\n",
    "       'Population, ages 10-17, male', 'Population, ages 10-17, total',\n",
    "       'Population, ages 10-18, female', 'Population, ages 10-18, male',\n",
    "       'Population, ages 10-18, total', 'Population, ages 11-15, female',\n",
    "       'Population, ages 11-15, male', 'Population, ages 11-15, total',\n",
    "       'Population, ages 11-16, female', 'Population, ages 11-16, male',\n",
    "       'Population, ages 11-16, total', 'Population, ages 11-17, female',\n",
    "       'Population, ages 11-17, male', 'Population, ages 11-17, total',\n",
    "       'Population, ages 11-18, female', 'Population, ages 11-18, male'],axis=1)"
   ]
  },
  {
   "cell_type": "code",
   "execution_count": null,
   "metadata": {},
   "outputs": [],
   "source": [
    "DF_pivot.columns"
   ]
  },
  {
   "cell_type": "markdown",
   "metadata": {},
   "source": [
    "ON VA MAINTENANT REGROUPER CE DATA FRAME AVEC CELUI DE Fichier_Country"
   ]
  },
  {
   "cell_type": "code",
   "execution_count": null,
   "metadata": {},
   "outputs": [],
   "source": [
    "DF_Final=DF_pivot.merge(Fichier_Country,on='Country Code')\n",
    "DF_Final"
   ]
  },
  {
   "cell_type": "code",
   "execution_count": null,
   "metadata": {},
   "outputs": [],
   "source": [
    "Seri=DF_Final['Short Name']\n",
    "DF_Final=DF_Final.drop(['Short Name'],axis=1)\n",
    "DF_Final.insert(1,'Short Name',Seri)\n",
    "DF_Final"
   ]
  },
  {
   "cell_type": "code",
   "execution_count": null,
   "metadata": {},
   "outputs": [],
   "source": [
    "DF_Final_2=DF_pivot.merge(Fichier_Country[['Country Code','Short Name']],on='Country Code')\n",
    "Seri=DF_Final_2['Short Name']\n",
    "DF_Final_2=DF_Final_2.drop(['Short Name'],axis=1)\n",
    "DF_Final_2.insert(1,'Short Name',Seri)\n",
    "DF_Final_2"
   ]
  },
  {
   "cell_type": "markdown",
   "metadata": {},
   "source": [
    "ON PEUT CONSTATER QUE DUE A LA SOMMATION DES INDICATERUS SUR LA PERIODE 2011 - 2015 ILS ONT PERDUS DE LEURS SENS.\n",
    "\n",
    "ON VA MOYENNER CES VALEURS AFIN DE LEUR RENDRE LEUR PERTINENCE"
   ]
  },
  {
   "cell_type": "code",
   "execution_count": null,
   "metadata": {},
   "outputs": [],
   "source": [
    "for col in DF_Final_2.columns:\n",
    "    if col not in ['Country Code','Short Name']:\n",
    "        DF_Final_2[col]=DF_Final_2[col]/5\n",
    "DF_Final_2"
   ]
  },
  {
   "cell_type": "markdown",
   "metadata": {},
   "source": [
    "ON VA REGROUPER LES 4 COLONNES 'ENROLMENT' EN UNE SEULE NOMMEE 'POPULATION CIBLE'"
   ]
  },
  {
   "cell_type": "code",
   "execution_count": 4036,
   "metadata": {},
   "outputs": [],
   "source": [
    "DF_Final_2['Population Cible']=DF_Final_2[['Enrolment in secondary education, both sexes (number)',\n",
    "                                           'Enrolment in secondary general, both sexes (number)',\n",
    "                                           'Enrolment in secondary vocational, both sexes (number)',\n",
    "                                           'Enrolment in tertiary education, all programmes, both sexes (number)']].sum(axis=1)\n"
   ]
  },
  {
   "cell_type": "code",
   "execution_count": null,
   "metadata": {},
   "outputs": [],
   "source": [
    "DF_Final_2=DF_Final_2.drop(['Enrolment in secondary education, both sexes (number)',\n",
    "                                           'Enrolment in secondary general, both sexes (number)',\n",
    "                                           'Enrolment in secondary vocational, both sexes (number)',\n",
    "                                           'Enrolment in tertiary education, all programmes, both sexes (number)'],axis=1)\n",
    "DF_Final_2"
   ]
  },
  {
   "cell_type": "markdown",
   "metadata": {},
   "source": [
    "ON VA MAINTENANT APPLIQUER UN STANDARD SCALER A NOS COLONNES NUMERIQUES AFIN DE POUVOIR PLUS AISEMENT LES COMPARER\n"
   ]
  },
  {
   "cell_type": "code",
   "execution_count": null,
   "metadata": {},
   "outputs": [],
   "source": [
    "# ON COMMENCE PAR SELECTIONNER LES COLONNES A NORMALISER\n",
    "colonnes_a_normaliser=[]\n",
    "for col in DF_Final_2.columns:\n",
    "    if col not in ['Country Code','Short Name']:\n",
    "        colonnes_a_normaliser.append(col)\n",
    "colonnes_a_normaliser"
   ]
  },
  {
   "cell_type": "code",
   "execution_count": 4039,
   "metadata": {},
   "outputs": [],
   "source": [
    "# ON IMPORTE LE STANDARD SCALER DE LA BIBLIOTHEQUE SCIKIT LEARN\n",
    "from sklearn.preprocessing import StandardScaler\n",
    "\n"
   ]
  },
  {
   "cell_type": "code",
   "execution_count": 4040,
   "metadata": {},
   "outputs": [],
   "source": [
    "# ON DEFINIT NOTRE SCALER\n",
    "scaler=StandardScaler()"
   ]
  },
  {
   "cell_type": "code",
   "execution_count": 4041,
   "metadata": {},
   "outputs": [],
   "source": [
    "# CREATION DU NOUVEAU DF\n",
    "DF_Final_2[colonnes_a_normaliser] = scaler.fit_transform(DF_Final_2[colonnes_a_normaliser])"
   ]
  },
  {
   "cell_type": "code",
   "execution_count": null,
   "metadata": {},
   "outputs": [],
   "source": [
    "DF_Final_2"
   ]
  },
  {
   "cell_type": "markdown",
   "metadata": {},
   "source": [
    "ON VA CONSERVER LES INDICATEURS SUIVANTS 'GDP, PPP (current international $)' 'Internet users (per 100 people)' 'Population Cible' 'Unemployment, total (% of total labor force)'"
   ]
  },
  {
   "cell_type": "code",
   "execution_count": null,
   "metadata": {},
   "outputs": [],
   "source": [
    "DF_etude=DF_Final_2[['Country Code','Short Name','GDP, PPP (current international $)', 'Internet users (per 100 people)', 'Population Cible', 'Unemployment, total (% of total labor force)']]\n",
    "DF_etude"
   ]
  },
  {
   "cell_type": "markdown",
   "metadata": {},
   "source": [
    "ON VA AFFICHER LA DISTRIBUTION, LES BOXPLOT, "
   ]
  },
  {
   "cell_type": "code",
   "execution_count": null,
   "metadata": {},
   "outputs": [],
   "source": [
    "# CREATION DE LA MOSAIQUE\n",
    "# LA MOSAIQUE PERMET DE FACILEMENT GERER LES POSITIONS DES SUBPLOTS\n",
    "layout=\"\"\"\n",
    "AABB\n",
    "AABB\n",
    "\n",
    "\"\"\"\n",
    "\n",
    "fig,axd = plt.subplot_mosaic(layout,figsize=(12,8),dpi=100)\n",
    "# CREATION D'UN BOX PLOT EN UTILISANT SEABORN\n",
    "sns.boxplot(y=DF_etude['GDP, PPP (current international $)'],ax=axd['A'])\n",
    "axd['A'].set_title('Boxplot')\n",
    "axd['A'].set_ylabel('Valeurs')\n",
    "\n",
    "# CREATION D'UN HISTOGRAMME AVEC COURBE DE DENSITE EN UTILISANT SEABORN\n",
    "\n",
    "sns.histplot(DF_etude['GDP, PPP (current international $)'],kde=True,ax=axd['B'])\n",
    "axd['B'].set_title('Distribution')\n",
    "axd['B'].set_xlabel('Valeurs')\n",
    "axd['B'].set_ylabel('Frequence')\n",
    "\n",
    "plt.tight_layout()\n",
    "plt.show()"
   ]
  },
  {
   "cell_type": "markdown",
   "metadata": {},
   "source": []
  }
 ],
 "metadata": {
  "kernelspec": {
   "display_name": "Python 3",
   "language": "python",
   "name": "python3"
  },
  "language_info": {
   "codemirror_mode": {
    "name": "ipython",
    "version": 3
   },
   "file_extension": ".py",
   "mimetype": "text/x-python",
   "name": "python",
   "nbconvert_exporter": "python",
   "pygments_lexer": "ipython3",
   "version": "3.12.3"
  }
 },
 "nbformat": 4,
 "nbformat_minor": 2
}
